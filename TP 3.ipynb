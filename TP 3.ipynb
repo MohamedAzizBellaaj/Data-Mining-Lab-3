{
 "cells": [
  {
   "cell_type": "code",
   "execution_count": 117,
   "metadata": {},
   "outputs": [],
   "source": [
    "from sklearn import datasets"
   ]
  },
  {
   "cell_type": "code",
   "execution_count": 118,
   "metadata": {},
   "outputs": [
    {
     "name": "stdout",
     "output_type": "stream",
     "text": [
      "['sepal length (cm)', 'sepal width (cm)', 'petal length (cm)', 'petal width (cm)']\n",
      "[[5.1 3.5 1.4 0.2]\n",
      " [4.9 3.  1.4 0.2]\n",
      " [4.7 3.2 1.3 0.2]\n",
      " [4.6 3.1 1.5 0.2]\n",
      " [5.  3.6 1.4 0.2]\n",
      " [5.4 3.9 1.7 0.4]\n",
      " [4.6 3.4 1.4 0.3]\n",
      " [5.  3.4 1.5 0.2]\n",
      " [4.4 2.9 1.4 0.2]\n",
      " [4.9 3.1 1.5 0.1]\n",
      " [5.4 3.7 1.5 0.2]\n",
      " [4.8 3.4 1.6 0.2]\n",
      " [4.8 3.  1.4 0.1]\n",
      " [4.3 3.  1.1 0.1]\n",
      " [5.8 4.  1.2 0.2]\n",
      " [5.7 4.4 1.5 0.4]\n",
      " [5.4 3.9 1.3 0.4]\n",
      " [5.1 3.5 1.4 0.3]\n",
      " [5.7 3.8 1.7 0.3]\n",
      " [5.1 3.8 1.5 0.3]\n",
      " [5.4 3.4 1.7 0.2]\n",
      " [5.1 3.7 1.5 0.4]\n",
      " [4.6 3.6 1.  0.2]\n",
      " [5.1 3.3 1.7 0.5]\n",
      " [4.8 3.4 1.9 0.2]\n",
      " [5.  3.  1.6 0.2]\n",
      " [5.  3.4 1.6 0.4]\n",
      " [5.2 3.5 1.5 0.2]\n",
      " [5.2 3.4 1.4 0.2]\n",
      " [4.7 3.2 1.6 0.2]\n",
      " [4.8 3.1 1.6 0.2]\n",
      " [5.4 3.4 1.5 0.4]\n",
      " [5.2 4.1 1.5 0.1]\n",
      " [5.5 4.2 1.4 0.2]\n",
      " [4.9 3.1 1.5 0.2]\n",
      " [5.  3.2 1.2 0.2]\n",
      " [5.5 3.5 1.3 0.2]\n",
      " [4.9 3.6 1.4 0.1]\n",
      " [4.4 3.  1.3 0.2]\n",
      " [5.1 3.4 1.5 0.2]\n",
      " [5.  3.5 1.3 0.3]\n",
      " [4.5 2.3 1.3 0.3]\n",
      " [4.4 3.2 1.3 0.2]\n",
      " [5.  3.5 1.6 0.6]\n",
      " [5.1 3.8 1.9 0.4]\n",
      " [4.8 3.  1.4 0.3]\n",
      " [5.1 3.8 1.6 0.2]\n",
      " [4.6 3.2 1.4 0.2]\n",
      " [5.3 3.7 1.5 0.2]\n",
      " [5.  3.3 1.4 0.2]\n",
      " [7.  3.2 4.7 1.4]\n",
      " [6.4 3.2 4.5 1.5]\n",
      " [6.9 3.1 4.9 1.5]\n",
      " [5.5 2.3 4.  1.3]\n",
      " [6.5 2.8 4.6 1.5]\n",
      " [5.7 2.8 4.5 1.3]\n",
      " [6.3 3.3 4.7 1.6]\n",
      " [4.9 2.4 3.3 1. ]\n",
      " [6.6 2.9 4.6 1.3]\n",
      " [5.2 2.7 3.9 1.4]\n",
      " [5.  2.  3.5 1. ]\n",
      " [5.9 3.  4.2 1.5]\n",
      " [6.  2.2 4.  1. ]\n",
      " [6.1 2.9 4.7 1.4]\n",
      " [5.6 2.9 3.6 1.3]\n",
      " [6.7 3.1 4.4 1.4]\n",
      " [5.6 3.  4.5 1.5]\n",
      " [5.8 2.7 4.1 1. ]\n",
      " [6.2 2.2 4.5 1.5]\n",
      " [5.6 2.5 3.9 1.1]\n",
      " [5.9 3.2 4.8 1.8]\n",
      " [6.1 2.8 4.  1.3]\n",
      " [6.3 2.5 4.9 1.5]\n",
      " [6.1 2.8 4.7 1.2]\n",
      " [6.4 2.9 4.3 1.3]\n",
      " [6.6 3.  4.4 1.4]\n",
      " [6.8 2.8 4.8 1.4]\n",
      " [6.7 3.  5.  1.7]\n",
      " [6.  2.9 4.5 1.5]\n",
      " [5.7 2.6 3.5 1. ]\n",
      " [5.5 2.4 3.8 1.1]\n",
      " [5.5 2.4 3.7 1. ]\n",
      " [5.8 2.7 3.9 1.2]\n",
      " [6.  2.7 5.1 1.6]\n",
      " [5.4 3.  4.5 1.5]\n",
      " [6.  3.4 4.5 1.6]\n",
      " [6.7 3.1 4.7 1.5]\n",
      " [6.3 2.3 4.4 1.3]\n",
      " [5.6 3.  4.1 1.3]\n",
      " [5.5 2.5 4.  1.3]\n",
      " [5.5 2.6 4.4 1.2]\n",
      " [6.1 3.  4.6 1.4]\n",
      " [5.8 2.6 4.  1.2]\n",
      " [5.  2.3 3.3 1. ]\n",
      " [5.6 2.7 4.2 1.3]\n",
      " [5.7 3.  4.2 1.2]\n",
      " [5.7 2.9 4.2 1.3]\n",
      " [6.2 2.9 4.3 1.3]\n",
      " [5.1 2.5 3.  1.1]\n",
      " [5.7 2.8 4.1 1.3]\n",
      " [6.3 3.3 6.  2.5]\n",
      " [5.8 2.7 5.1 1.9]\n",
      " [7.1 3.  5.9 2.1]\n",
      " [6.3 2.9 5.6 1.8]\n",
      " [6.5 3.  5.8 2.2]\n",
      " [7.6 3.  6.6 2.1]\n",
      " [4.9 2.5 4.5 1.7]\n",
      " [7.3 2.9 6.3 1.8]\n",
      " [6.7 2.5 5.8 1.8]\n",
      " [7.2 3.6 6.1 2.5]\n",
      " [6.5 3.2 5.1 2. ]\n",
      " [6.4 2.7 5.3 1.9]\n",
      " [6.8 3.  5.5 2.1]\n",
      " [5.7 2.5 5.  2. ]\n",
      " [5.8 2.8 5.1 2.4]\n",
      " [6.4 3.2 5.3 2.3]\n",
      " [6.5 3.  5.5 1.8]\n",
      " [7.7 3.8 6.7 2.2]\n",
      " [7.7 2.6 6.9 2.3]\n",
      " [6.  2.2 5.  1.5]\n",
      " [6.9 3.2 5.7 2.3]\n",
      " [5.6 2.8 4.9 2. ]\n",
      " [7.7 2.8 6.7 2. ]\n",
      " [6.3 2.7 4.9 1.8]\n",
      " [6.7 3.3 5.7 2.1]\n",
      " [7.2 3.2 6.  1.8]\n",
      " [6.2 2.8 4.8 1.8]\n",
      " [6.1 3.  4.9 1.8]\n",
      " [6.4 2.8 5.6 2.1]\n",
      " [7.2 3.  5.8 1.6]\n",
      " [7.4 2.8 6.1 1.9]\n",
      " [7.9 3.8 6.4 2. ]\n",
      " [6.4 2.8 5.6 2.2]\n",
      " [6.3 2.8 5.1 1.5]\n",
      " [6.1 2.6 5.6 1.4]\n",
      " [7.7 3.  6.1 2.3]\n",
      " [6.3 3.4 5.6 2.4]\n",
      " [6.4 3.1 5.5 1.8]\n",
      " [6.  3.  4.8 1.8]\n",
      " [6.9 3.1 5.4 2.1]\n",
      " [6.7 3.1 5.6 2.4]\n",
      " [6.9 3.1 5.1 2.3]\n",
      " [5.8 2.7 5.1 1.9]\n",
      " [6.8 3.2 5.9 2.3]\n",
      " [6.7 3.3 5.7 2.5]\n",
      " [6.7 3.  5.2 2.3]\n",
      " [6.3 2.5 5.  1.9]\n",
      " [6.5 3.  5.2 2. ]\n",
      " [6.2 3.4 5.4 2.3]\n",
      " [5.9 3.  5.1 1.8]]\n"
     ]
    }
   ],
   "source": [
    "irisData = datasets.load_iris()\n",
    "print(irisData.feature_names)\n",
    "print(irisData.data)"
   ]
  },
  {
   "cell_type": "code",
   "execution_count": 119,
   "metadata": {},
   "outputs": [
    {
     "name": "stdout",
     "output_type": "stream",
     "text": [
      "['setosa' 'versicolor' 'virginica']\n",
      "[0 0 0 0 0 0 0 0 0 0 0 0 0 0 0 0 0 0 0 0 0 0 0 0 0 0 0 0 0 0 0 0 0 0 0 0 0\n",
      " 0 0 0 0 0 0 0 0 0 0 0 0 0 1 1 1 1 1 1 1 1 1 1 1 1 1 1 1 1 1 1 1 1 1 1 1 1\n",
      " 1 1 1 1 1 1 1 1 1 1 1 1 1 1 1 1 1 1 1 1 1 1 1 1 1 1 2 2 2 2 2 2 2 2 2 2 2\n",
      " 2 2 2 2 2 2 2 2 2 2 2 2 2 2 2 2 2 2 2 2 2 2 2 2 2 2 2 2 2 2 2 2 2 2 2 2 2\n",
      " 2 2]\n"
     ]
    }
   ],
   "source": [
    "print(irisData.target_names)\n",
    "print(irisData.target)"
   ]
  },
  {
   "cell_type": "markdown",
   "metadata": {},
   "source": [
    "Quels sont les attributs et la classe du 32ème élément de l'échantillon ?\n"
   ]
  },
  {
   "cell_type": "code",
   "execution_count": 120,
   "metadata": {},
   "outputs": [
    {
     "name": "stdout",
     "output_type": "stream",
     "text": [
      "[5.4 3.4 1.5 0.4]\n",
      "0\n"
     ]
    }
   ],
   "source": [
    "print(irisData.data[31])\n",
    "print(irisData.target[31])"
   ]
  },
  {
   "cell_type": "markdown",
   "metadata": {},
   "source": [
    "Combien y a-t-il de données dans chaque classe ?\n"
   ]
  },
  {
   "cell_type": "code",
   "execution_count": 121,
   "metadata": {},
   "outputs": [
    {
     "name": "stdout",
     "output_type": "stream",
     "text": [
      "La classe 0 contient 50 instances\n",
      "La classe 1 contient 50 instances\n",
      "La classe 2 contient 50 instances\n"
     ]
    }
   ],
   "source": [
    "for i in range(3):\n",
    "    print(\n",
    "        f\"La classe {i} contient {len(irisData.target[irisData.target==i])} instances\"\n",
    "    )"
   ]
  },
  {
   "cell_type": "code",
   "execution_count": 122,
   "metadata": {},
   "outputs": [
    {
     "name": "stdout",
     "output_type": "stream",
     "text": [
      "Counter({0: 50, 1: 50, 2: 50})\n"
     ]
    }
   ],
   "source": [
    "from collections import Counter\n",
    "\n",
    "print(Counter(irisData.target))"
   ]
  },
  {
   "cell_type": "markdown",
   "metadata": {},
   "source": [
    "b. Comprendre, commenter et programmer le code source suivant\n"
   ]
  },
  {
   "cell_type": "code",
   "execution_count": 123,
   "metadata": {},
   "outputs": [],
   "source": [
    "from itertools import cycle\n",
    "import pylab as pl\n",
    "\n",
    "\n",
    "def plot_2d(data, target, target_names):\n",
    "    colors = cycle(\"rgbcmykw\")\n",
    "    # cycle de couleurs\n",
    "    target_ids = range(len(target_names))\n",
    "    pl.figure()\n",
    "    for i, c, label in zip(target_ids, colors, target_names):\n",
    "        pl.scatter(data[target == i, 2], data[target == i, 3], c=c, label=label)\n",
    "    pl.xlabel(irisData.feature_names[2])\n",
    "    pl.ylabel(irisData.feature_names[3])\n",
    "    pl.legend()\n",
    "    pl.plot([0.75, 7], [0.75, 0.75], color=\"blue\", linestyle=\"--\")\n",
    "    pl.plot([2.5, 2.5], [0, 3])\n",
    "    pl.show()"
   ]
  },
  {
   "cell_type": "code",
   "execution_count": 124,
   "metadata": {},
   "outputs": [
    {
     "data": {
      "image/png": "[encoded data removed]",
      "text/plain": [
       "<Figure size 640x480 with 1 Axes>"
      ]
     },
     "metadata": {},
     "output_type": "display_data"
    }
   ],
   "source": [
    "plot_2d(irisData.data, irisData.target, irisData.target_names)"
   ]
  },
  {
   "cell_type": "markdown",
   "metadata": {},
   "source": [
    "# Naive Bayes\n"
   ]
  },
  {
   "cell_type": "markdown",
   "metadata": {},
   "source": [
    "Comprendre et programmer l'exemple ci-dessous : quel est le résultat ?\n"
   ]
  },
  {
   "cell_type": "code",
   "execution_count": 125,
   "metadata": {},
   "outputs": [
    {
     "name": "stdout",
     "output_type": "stream",
     "text": [
      "[0]\n",
      "[2]\n",
      "[0 0 0 0 0 0 0 0 0 0 0 0 0 0 0 0 0 0 0 0 0 0 0 0 0 0 0 0 0 0 0 0 0 0 0 0 0\n",
      " 0 0 0 0 0 0 0 0 0 0 0 0 0 1 1 1 1 1 1 1 1 1 1 1 1 1 1 1 1 1 1 2 1 2 1 2 1\n",
      " 1 1 1 1 1 1 1 1 1 2 1 1 1 1 1 1 1 1 1 1 1 1 1 1 1 1 2 2 2 2 2 2 2 2 2 2 2\n",
      " 2 2 2 2 2 2 2 2 2 2 2 2 2 2 2 2 2 2 1 2 1 2 1 2 2 2 2 2 2 2 2 2 2 2 2 2 2\n",
      " 2 2]\n",
      "Counter({2: 51, 0: 50, 1: 49})\n"
     ]
    }
   ],
   "source": [
    "from sklearn import naive_bayes\n",
    "\n",
    "nb = naive_bayes.MultinomialNB(fit_prior=True)  # un algo d'apprentissage\n",
    "irisData = datasets.load_iris()\n",
    "nb.fit(irisData.data[:], irisData.target[:])\n",
    "p31 = nb.predict([irisData.data[31]])\n",
    "print(p31)\n",
    "plast = nb.predict([irisData.data[-1]])\n",
    "print(plast)\n",
    "p = nb.predict(irisData.data[:])\n",
    "print(p)\n",
    "print(Counter(p))"
   ]
  },
  {
   "cell_type": "markdown",
   "metadata": {},
   "source": [
    "Soit P le tableau qui contient les prédictions, et Y le tableau qui contient les cibles (Y = irisData.target). Le code suivant permet de compter les erreurs et ainsi de calculer\n",
    "l'erreur d'apprentissage\n"
   ]
  },
  {
   "cell_type": "code",
   "execution_count": 126,
   "metadata": {},
   "outputs": [
    {
     "name": "stdout",
     "output_type": "stream",
     "text": [
      "0.04666666666666667\n"
     ]
    }
   ],
   "source": [
    "P = p\n",
    "Y = irisData.target\n",
    "ea = 0\n",
    "for i in range(len(irisData.data)):\n",
    "    if P[i] != Y[i]:\n",
    "        ea = ea + 1\n",
    "print(ea / len(irisData.data))"
   ]
  },
  {
   "cell_type": "markdown",
   "metadata": {},
   "source": [
    "Comment compter (en une seule instruction) le nombre de valeurs non-nulles1 ?\n"
   ]
  },
  {
   "cell_type": "code",
   "execution_count": 127,
   "metadata": {},
   "outputs": [
    {
     "name": "stdout",
     "output_type": "stream",
     "text": [
      "7\n"
     ]
    }
   ],
   "source": [
    "import numpy as np\n",
    "\n",
    "print(np.count_nonzero(P - Y))"
   ]
  },
  {
   "cell_type": "markdown",
   "metadata": {},
   "source": [
    "La méthode clf.score(X,y) permet de calculer le taux de bonne classification du\n",
    "modèle appris par la méthode clf, sur un ensemble de données stocke dans X et dont\n",
    "les classes sont stockées dans y. Le taux de bonne classification a, appelé en anglais\n",
    "accuracy, est tel que a = 1 - e si e est le taux d'erreur.\n"
   ]
  },
  {
   "cell_type": "code",
   "execution_count": 128,
   "metadata": {},
   "outputs": [
    {
     "name": "stdout",
     "output_type": "stream",
     "text": [
      "0.046666666666666634\n"
     ]
    }
   ],
   "source": [
    "print(1 - nb.score(irisData.data, irisData.target))"
   ]
  },
  {
   "cell_type": "markdown",
   "metadata": {},
   "source": [
    "Créez la fonction split(S) pour séparer en deux un échantillon S de couples (X, y)\n",
    "supposés uniformément repartis, selon le principe évoqué précédemment. On suppose\n",
    "que S est une variable de type datasets. Cette fonction renvoie un tableau à quatre\n",
    "éléments : [dataS1, targetS1, dataS2, targetS2] où dataS1 et dataS2 sont des matrices ayant le même nombre de colonnes que\n",
    "S.data, et où targetS1 et targetS2 sont des vecteurs d'étiquettes.\n"
   ]
  },
  {
   "cell_type": "code",
   "execution_count": 129,
   "metadata": {},
   "outputs": [],
   "source": [
    "import random\n",
    "\n",
    "random.seed(0)\n",
    "\n",
    "\n",
    "def split(S, training_percentage):\n",
    "    data = list(S.data)\n",
    "    target = list(S.target)\n",
    "    training_size = int(len(data) * training_percentage)\n",
    "\n",
    "    shuffled = list(zip(data, target))\n",
    "    random.shuffle(shuffled)\n",
    "\n",
    "    training_data, training_target = zip(*shuffled[:training_size])\n",
    "    testing_data, testing_target = zip(*shuffled[training_size:])\n",
    "\n",
    "    return [training_data, training_target, testing_data, testing_target]"
   ]
  },
  {
   "cell_type": "code",
   "execution_count": 130,
   "metadata": {},
   "outputs": [
    {
     "name": "stdout",
     "output_type": "stream",
     "text": [
      "100 50\n"
     ]
    }
   ],
   "source": [
    "dataS1, targetS1, dataS2, targetS2 = split(irisData, 2 / 3)\n",
    "print(len(dataS1), len(dataS2))"
   ]
  },
  {
   "cell_type": "markdown",
   "metadata": {},
   "source": [
    "Créez la fonction test(S, clf) qui sépare S en deux parties, puis apprend sur la\n",
    "première partie un modèle avec l'estimateur clf, et teste ce modèle sur l'autre partie,\n",
    "en comptant les erreurs faites sur l'échantillon : la proportion d'erreurs est renvoyée par\n",
    "la fonction. Testez cette fonction sur iris avec naive Bayes. L'erreur estimée est-elle\n",
    "plus petite que l'erreur apparente précédemment calculée ? Obtient-on toujours la même\n",
    "estimation pour l'erreur réelle ?\n"
   ]
  },
  {
   "cell_type": "code",
   "execution_count": 131,
   "metadata": {},
   "outputs": [],
   "source": [
    "def test(S, clf, training_percentage=2 / 3):\n",
    "    error = 0\n",
    "    dataS1, targetS1, dataS2, targetS2 = split(S, training_percentage)\n",
    "    clf.fit(dataS1, targetS1)\n",
    "    predictions = clf.predict(dataS2)\n",
    "    error += np.count_nonzero(predictions - targetS2) / len(targetS2)\n",
    "\n",
    "    return error"
   ]
  },
  {
   "cell_type": "code",
   "execution_count": 132,
   "metadata": {},
   "outputs": [
    {
     "name": "stdout",
     "output_type": "stream",
     "text": [
      "0.1\n"
     ]
    }
   ],
   "source": [
    "print(test(irisData, nb))"
   ]
  },
  {
   "cell_type": "code",
   "execution_count": 133,
   "metadata": {},
   "outputs": [],
   "source": [
    "def test(S, clf, training_percentage=2 / 3):\n",
    "    error = 0\n",
    "    dataS1, targetS1, dataS2, targetS2 = split(S, training_percentage)\n",
    "    clf.fit(dataS1, targetS1)\n",
    "    predictions = clf.predict(dataS2)\n",
    "    error += np.count_nonzero(predictions - targetS2) / len(targetS2)\n",
    "\n",
    "    return error"
   ]
  },
  {
   "cell_type": "code",
   "execution_count": 134,
   "metadata": {},
   "outputs": [
    {
     "name": "stdout",
     "output_type": "stream",
     "text": [
      "0.4\n"
     ]
    }
   ],
   "source": [
    "print(test(irisData, nb))"
   ]
  },
  {
   "cell_type": "markdown",
   "metadata": {},
   "source": [
    "<span style=\"color: #87ceeb;\">L'erreur obtenu 0.1 est plus grande que l'erreur apparente 0.046666666666666634. C'est normal puisqu'on traîne le modèle avec moins de données ainsi que la distribution des données n'est pas nécessairement conservé lors de séparation des données.\n",
    "Si on execute cette fonction une autre fois on n'obtient pas le même résultat.\n",
    "</span>\n"
   ]
  },
  {
   "cell_type": "markdown",
   "metadata": {},
   "source": [
    "Réalisez t fois le test de la fonction test sur le même jeu de données et avec le même\n",
    "algorithme d'apprentissage, puis moyennez les erreurs estimées. Quelle erreur moyenne\n",
    "obtenez-vous pour t = 10; 50; 100; 200; 500; 1000 ?\n"
   ]
  },
  {
   "cell_type": "code",
   "execution_count": 135,
   "metadata": {},
   "outputs": [],
   "source": [
    "def stable_test(S, clf, t, training_percentage=2 / 3):\n",
    "    error = 0\n",
    "    for _ in range(t):\n",
    "        error += test(S, clf, training_percentage=training_percentage)\n",
    "\n",
    "    return error / t"
   ]
  },
  {
   "cell_type": "code",
   "execution_count": 136,
   "metadata": {},
   "outputs": [
    {
     "name": "stdout",
     "output_type": "stream",
     "text": [
      "+------+---------------------+\n",
      "|  T   |        Error        |\n",
      "+------+---------------------+\n",
      "|  10  |        0.242        |\n",
      "|  50  |        0.2024       |\n",
      "| 100  | 0.18499999999999994 |\n",
      "| 200  | 0.21589999999999993 |\n",
      "| 500  |  0.2075600000000002 |\n",
      "| 1000 | 0.18918000000000038 |\n",
      "+------+---------------------+\n"
     ]
    }
   ],
   "source": [
    "from prettytable import PrettyTable\n",
    "\n",
    "table = PrettyTable([\"T\", \"Error\"])\n",
    "\n",
    "for t in [10, 50, 100, 200, 500, 1000]:\n",
    "    table.add_row([t, stable_test(irisData, nb, t)])\n",
    "\n",
    "print(table)"
   ]
  },
  {
   "cell_type": "markdown",
   "metadata": {},
   "source": [
    "Pour chaque t, répétez 20 fois l'expérience : pour chaque t, est-ce que l'erreur moyenne est stable ou non ? Pouvez-vous interpréter ce résultat ?\n"
   ]
  },
  {
   "cell_type": "code",
   "execution_count": 137,
   "metadata": {},
   "outputs": [
    {
     "name": "stdout",
     "output_type": "stream",
     "text": [
      "+---+---------------------+\n",
      "| T |     Stable Error    |\n",
      "+---+---------------------+\n",
      "| T | 0.18950000000000003 |\n",
      "| T | 0.20657999999999999 |\n",
      "| T | 0.20262999999999995 |\n",
      "| T | 0.20109999999999997 |\n",
      "| T | 0.20260800000000012 |\n",
      "| T | 0.20122000000000018 |\n",
      "+---+---------------------+\n"
     ]
    }
   ],
   "source": [
    "table = PrettyTable([\"T\", \"Stable Error\"])\n",
    "repetitions = 20\n",
    "\n",
    "for t in [10, 50, 100, 200, 500, 1000]:\n",
    "    error = 0\n",
    "    for _ in range(repetitions):\n",
    "        error += stable_test(irisData, nb, t)\n",
    "\n",
    "    error /= repetitions\n",
    "    table.add_row([\"T\", error])\n",
    "\n",
    "print(table)"
   ]
  },
  {
   "cell_type": "markdown",
   "metadata": {},
   "source": [
    "<span style=\"color: #87ceeb;\">Plus qu'on répète l'expérience, plus que le taux d'erreur stabilise et converge vers une valeur stable.</span>\n"
   ]
  },
  {
   "cell_type": "markdown",
   "metadata": {},
   "source": [
    "Est-ce que l'erreur estimée (dans sa version stable), dans le cas d'un échantillon de test\n",
    "qui ne prend que le 10ème de l'échantillon initial, est la même qu'avec la proportion\n",
    "d'1/3 ?\n"
   ]
  },
  {
   "cell_type": "code",
   "execution_count": 138,
   "metadata": {},
   "outputs": [
    {
     "name": "stdout",
     "output_type": "stream",
     "text": [
      "+---+---------------------+\n",
      "| T |     Stable Error    |\n",
      "+---+---------------------+\n",
      "| T | 0.13933333333333336 |\n",
      "| T | 0.12513333333333335 |\n",
      "| T | 0.12509999999999993 |\n",
      "| T | 0.12643333333333315 |\n",
      "| T | 0.12090000000000045 |\n",
      "| T | 0.12276000000000034 |\n",
      "+---+---------------------+\n"
     ]
    }
   ],
   "source": [
    "table = PrettyTable([\"T\", \"Stable Error\"])\n",
    "repetitions = 20\n",
    "\n",
    "for t in [10, 50, 100, 200, 500, 1000]:\n",
    "    error = 0\n",
    "    for _ in range(repetitions):\n",
    "        error += stable_test(\n",
    "            irisData, nb, t, 0.9\n",
    "        )  # test percentage is 0.1 so training percentage is 0.9\n",
    "\n",
    "    error /= repetitions\n",
    "    table.add_row([\"T\", error])\n",
    "\n",
    "print(table)"
   ]
  },
  {
   "cell_type": "markdown",
   "metadata": {},
   "source": [
    "<span style=\"color: #87ceeb;\">Non ce n'est pas le même. En faite plus qu'on a de données d'entraînement plus l'erreur estimé diminue.</span>\n"
   ]
  },
  {
   "cell_type": "markdown",
   "metadata": {},
   "source": [
    "Il existe déjà, une fonction qui réalise le découpage d'un échantillon en deux parties\n",
    "disjointes. Il s'agit de la fonction train_test_split. Elle prend en entrée un\n",
    "échantillon de données (descriptions et cibles), et le sépare, selon une proportion en\n",
    "paramètre, en un ensemble d'apprentissage et un ensemble test (par défaut :\n",
    "test_size=0.25). Elle renvoie ainsi quatre quantités, dans l'ordre : une matrice de\n",
    "descriptions des données pour l'apprentissage (D_train), une matrice de descriptions\n",
    "des données pour le test (D_test), le vecteur des classes (cibles) des données\n",
    "d'apprentissage (C train), et le vecteur des classes (cibles) des données de test (C test).\n",
    "\n",
    "La documentation en ligne est :\n",
    "http://scikit-learn.org/stable/modules/classes.html#module-sklearn.cross_validation\n",
    "\n",
    "Testez cette fonction avec plusieurs valeurs pour test size (dont 0.33) pour estimer\n",
    "l'erreur réelle de naïve Bayes sur les données Iris. Quelles erreurs obtenez-vous ?\n"
   ]
  },
  {
   "cell_type": "code",
   "execution_count": 158,
   "metadata": {},
   "outputs": [
    {
     "name": "stdout",
     "output_type": "stream",
     "text": [
      "+-----------+----------------------+\n",
      "| Test Size |      Error Rate      |\n",
      "+-----------+----------------------+\n",
      "|    0.1    | 0.06666666666666665  |\n",
      "|    0.2    | 0.033333333333333326 |\n",
      "|    0.25   |         0.0          |\n",
      "|    0.3    |  0.0444444444444444  |\n",
      "|    0.33   | 0.040000000000000036 |\n",
      "|    0.4    | 0.033333333333333326 |\n",
      "|    0.5    | 0.06666666666666665  |\n",
      "|    0.6    | 0.05555555555555558  |\n",
      "+-----------+----------------------+\n"
     ]
    }
   ],
   "source": [
    "from sklearn.model_selection import train_test_split\n",
    "from sklearn.metrics import accuracy_score\n",
    "\n",
    "test_sizes = [0.1, 0.2, 0.25, 0.3, 0.33, 0.4, 0.5, 0.6]\n",
    "table = PrettyTable([\"Test Size\", \"Error Rate\"])\n",
    "error_rates = []\n",
    "\n",
    "for test_size in test_sizes:\n",
    "    clf = naive_bayes.MultinomialNB(fit_prior=True)\n",
    "\n",
    "    # Split the data into training and testing sets\n",
    "    X_train, X_test, y_train, y_test = train_test_split(\n",
    "        irisData.data,\n",
    "        irisData.target,\n",
    "        test_size=test_size,\n",
    "        stratify=irisData.target,\n",
    "        random_state=0,\n",
    "    )\n",
    "    clf.fit(X_train, y_train)\n",
    "\n",
    "    error_rates.append(error_rate)\n",
    "    predictions = clf.predict(X_test)\n",
    "    error_rate = 1 - accuracy_score(y_test, predictions)\n",
    "    table.add_row([test_size, error_rate])\n",
    "\n",
    "print(table)"
   ]
  },
  {
   "cell_type": "markdown",
   "metadata": {},
   "source": [
    "<span style=\"color: #87ceeb;\">Les erreurs estimés sont plus proches que l'erreur apparente déjà calculé 0.046666666666666634. C'est parce que la fonction intégrée de scikit-learn, en revanche, utilise une technique appelée stratification pour garantir que les deux parties sont représentatives de la distribution des classes dans l'ensemble d'origine.</span>\n"
   ]
  },
  {
   "cell_type": "code",
   "execution_count": 146,
   "metadata": {},
   "outputs": [
    {
     "data": {
      "image/png": "[encoded data removed]",
      "text/plain": [
       "<Figure size 640x480 with 1 Axes>"
      ]
     },
     "metadata": {},
     "output_type": "display_data"
    }
   ],
   "source": [
    "import matplotlib.pyplot as plt\n",
    "\n",
    "plt.plot(test_sizes, error_rates, marker=\"o\")\n",
    "plt.title(\"Error Rate Vs. Test Size\")\n",
    "plt.xlabel(\"Test Size\")\n",
    "plt.ylabel(\"Error Rate\")\n",
    "plt.show()"
   ]
  },
  {
   "cell_type": "markdown",
   "metadata": {},
   "source": [
    "Testez la fonction cross val score du package sklearn.cross_validation, pour estimer\n",
    "l'erreur réelle par validation croisée 10 folds.\n",
    "Quelle erreur obtenez-vous pour Iris avec naïve Bayes ? Donnez cette erreur avec 2 folds ? 3\n",
    "folds ? 5 ou 8 folds ?\n"
   ]
  },
  {
   "cell_type": "code",
   "execution_count": 151,
   "metadata": {},
   "outputs": [
    {
     "name": "stdout",
     "output_type": "stream",
     "text": [
      "+-------+----------------------+\n",
      "| Folds |   Mean Error Rate    |\n",
      "+-------+----------------------+\n",
      "|   2   | 0.046666666666666634 |\n",
      "|   3   | 0.053333333333333344 |\n",
      "|   5   | 0.046666666666666634 |\n",
      "|   8   | 0.05263157894736836  |\n",
      "|   10  | 0.046666666666666634 |\n",
      "+-------+----------------------+\n"
     ]
    }
   ],
   "source": [
    "from sklearn.model_selection import cross_val_score\n",
    "\n",
    "clf = naive_bayes.MultinomialNB(fit_prior=True)\n",
    "num_folds = [2, 3, 5, 8, 10]\n",
    "table = PrettyTable([\"Folds\", \"Mean Error Rate\"])\n",
    "error_rates = []\n",
    "\n",
    "for folds in num_folds:\n",
    "    scores = cross_val_score(clf, irisData.data, irisData.target, cv=folds)\n",
    "    error_rate = 1 - scores.mean()\n",
    "    error_rates.append(error_rate)\n",
    "    table.add_row([folds, error_rate])\n",
    "\n",
    "print(table)"
   ]
  },
  {
   "cell_type": "code",
   "execution_count": 148,
   "metadata": {},
   "outputs": [
    {
     "data": {
      "image/png": "[encoded data removed]",
      "text/plain": [
       "<Figure size 640x480 with 1 Axes>"
      ]
     },
     "metadata": {},
     "output_type": "display_data"
    }
   ],
   "source": [
    "plt.plot(num_folds, error_rates, marker=\"o\")\n",
    "plt.title(\"Error Rate Vs. Number of Folds\")\n",
    "plt.xlabel(\"Number of Folds\")\n",
    "plt.ylabel(\"Mean Error Rate\")\n",
    "plt.show()"
   ]
  },
  {
   "cell_type": "markdown",
   "metadata": {},
   "source": [
    "<span style=\"color: #87ceeb\">La cross validation nous donne la plus proche estimation d'erreur à la valeur réelle!</span>\n"
   ]
  },
  {
   "cell_type": "markdown",
   "metadata": {},
   "source": [
    "# Decision Tree\n"
   ]
  },
  {
   "cell_type": "code",
   "execution_count": 161,
   "metadata": {},
   "outputs": [],
   "source": [
    "from sklearn.tree import DecisionTreeClassifier\n",
    "\n",
    "dt = DecisionTreeClassifier(random_state=0)\n",
    "dt.fit(irisData.data, irisData.target)\n",
    "p = dt.predict(irisData.data[:])"
   ]
  },
  {
   "cell_type": "markdown",
   "metadata": {},
   "source": [
    "Real Error"
   ]
  },
  {
   "cell_type": "code",
   "execution_count": 162,
   "metadata": {},
   "outputs": [
    {
     "name": "stdout",
     "output_type": "stream",
     "text": [
      "0.0\n"
     ]
    }
   ],
   "source": [
    "P = p\n",
    "Y = irisData.target\n",
    "\n",
    "print(np.count_nonzero(P - Y) / len(irisData.data))"
   ]
  }
 ],
 "metadata": {
  "kernelspec": {
   "display_name": "data-science",
   "language": "python",
   "name": "python3"
  },
  "language_info": {
   "codemirror_mode": {
    "name": "ipython",
    "version": 3
   },
   "file_extension": ".py",
   "mimetype": "text/x-python",
   "name": "python",
   "nbconvert_exporter": "python",
   "pygments_lexer": "ipython3",
   "version": "3.11.5"
  }
 },
 "nbformat": 4,
 "nbformat_minor": 2
}
